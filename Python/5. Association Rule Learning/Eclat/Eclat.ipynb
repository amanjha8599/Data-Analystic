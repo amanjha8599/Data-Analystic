{
 "cells": [
  {
   "cell_type": "code",
   "execution_count": 4,
   "id": "713223df",
   "metadata": {},
   "outputs": [
    {
     "name": "stdout",
     "output_type": "stream",
     "text": [
      "Requirement already satisfied: apyori in c:\\users\\amanj\\anaconda3\\lib\\site-packages (1.1.2)\n"
     ]
    }
   ],
   "source": [
    "!pip install apyori"
   ]
  },
  {
   "cell_type": "code",
   "execution_count": 1,
   "id": "3d11a49a",
   "metadata": {},
   "outputs": [],
   "source": [
    "import numpy as np\n",
    "import matplotlib.pyplot as plt\n",
    "import pandas as pd\n",
    "\n",
    "dataset = pd.read_csv('Market_Basket_Optimisation.csv', header = None)\n",
    "transactions = []\n",
    "for i in range(0, 7501):\n",
    "    transactions.append([str(dataset.values[i,j]) for j in range(0, 20)])\n"
   ]
  },
  {
   "cell_type": "code",
   "execution_count": 3,
   "id": "22e5c6ca",
   "metadata": {},
   "outputs": [
    {
     "name": "stdout",
     "output_type": "stream",
     "text": [
      "              Left Side     Right Side   Support  Confidence      Lift\n",
      "4           ground beef  herb & pepper  0.015998    0.323450  3.291994\n",
      "7     whole wheat pasta      olive oil  0.007999    0.271493  4.122410\n",
      "2                 pasta       escalope  0.005866    0.372881  4.700812\n",
      "1  mushroom cream sauce       escalope  0.005733    0.300699  3.790833\n",
      "5          tomato sauce    ground beef  0.005333    0.377358  3.840659\n",
      "8                shrimp          pasta  0.005066    0.322034  4.506672\n",
      "0               chicken    light cream  0.004533    0.290598  4.843951\n",
      "3         fromage blanc          honey  0.003333    0.245098  5.164271\n",
      "6           light cream      olive oil  0.003200    0.205128  3.114710\n"
     ]
    }
   ],
   "source": [
    "#Getting the best association using the Apriori algorithm\n",
    "from apyori import apriori\n",
    "rules = apriori(transactions = transactions, min_support = 0.003, min_confidence = 0.2, min_lift = 3, min_length = 2, max_length = 2)\n",
    "\n",
    "#creating a dataframe for the rules\n",
    "result = pd.DataFrame(columns = ['Left Side', 'Right Side', 'Support', 'Confidence', 'Lift'])\n",
    "for record in list(rules):\n",
    "    result.loc[len(result)] = [list(record[0])[0], list(record[0])[1], record[1], record[2][0][2], record[2][0][3]]\n",
    "    \n",
    "#In the Eclat algorithm we use Support as a metric\n",
    "result = result.sort_values(by = 'Support', ascending = False)\n",
    "print(result.iloc[:10,:])"
   ]
  }
 ],
 "metadata": {
  "kernelspec": {
   "display_name": "Python 3 (ipykernel)",
   "language": "python",
   "name": "python3"
  },
  "language_info": {
   "codemirror_mode": {
    "name": "ipython",
    "version": 3
   },
   "file_extension": ".py",
   "mimetype": "text/x-python",
   "name": "python",
   "nbconvert_exporter": "python",
   "pygments_lexer": "ipython3",
   "version": "3.9.7"
  }
 },
 "nbformat": 4,
 "nbformat_minor": 5
}
