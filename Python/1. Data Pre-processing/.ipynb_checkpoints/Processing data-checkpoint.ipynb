{
 "cells": [
  {
   "cell_type": "code",
   "execution_count": 78,
   "id": "c55889d5",
   "metadata": {},
   "outputs": [],
   "source": [
    "import numpy as np\n",
    "import pandas as pd\n",
    "from matplotlib import pyplot as plt\n",
    "\n",
    "table = pd.read_csv(\"Data.csv\")\n",
    "x = table[[\"Country\",\"Age\",\"Salary\"]].values\n",
    "y = table[\"Purchased\"].values"
   ]
  },
  {
   "cell_type": "code",
   "execution_count": 79,
   "id": "aefae8d4",
   "metadata": {},
   "outputs": [],
   "source": [
    "from sklearn.impute import SimpleImputer\n",
    "imputer = SimpleImputer(strategy = \"mean\",missing_values = np.nan)\n",
    "imputer.fit(x[:,1:3])\n",
    "x[:,1:3] = imputer.transform(x[:,1:3])\n"
   ]
  },
  {
   "cell_type": "code",
   "execution_count": 80,
   "id": "ae539bee",
   "metadata": {},
   "outputs": [],
   "source": [
    "#Encoding categorical Data(OneHotEncoding)\n",
    "from sklearn.compose import ColumnTransformer\n",
    "from sklearn.preprocessing import OneHotEncoder,LabelEncoder\n",
    "\n",
    "ct = ColumnTransformer(transformers = [('encoder',OneHotEncoder(),[0])],remainder = 'passthrough')\n",
    "x= np.array(ct.fit_transform(x))\n",
    "label = LabelEncoder()\n",
    "y = label.fit_transform(y)\n"
   ]
  },
  {
   "cell_type": "code",
   "execution_count": 81,
   "id": "c8593bd6",
   "metadata": {},
   "outputs": [],
   "source": [
    "#Creating Training and Test Sets\n",
    "from sklearn.model_selection import train_test_split\n",
    "x_train ,x_test, y_train, y_test = train_test_split(x,y,test_size = 0.2, random_state = 1)"
   ]
  },
  {
   "cell_type": "code",
   "execution_count": 82,
   "id": "c74a4077",
   "metadata": {},
   "outputs": [
    {
     "data": {
      "text/plain": [
       "(array([[0.0, 0.0, 1.0, -0.19159184384578545, -1.0781259408412425],\n",
       "        [0.0, 1.0, 0.0, -0.014117293757057777, -0.07013167641635372],\n",
       "        [1.0, 0.0, 0.0, 0.566708506533324, 0.633562432710455],\n",
       "        [0.0, 0.0, 1.0, -0.30453019390224867, -0.30786617274297867],\n",
       "        [0.0, 0.0, 1.0, -1.9018011447007988, -1.420463615551582],\n",
       "        [1.0, 0.0, 0.0, 1.1475343068237058, 1.232653363453549],\n",
       "        [0.0, 1.0, 0.0, 1.4379472069688968, 1.5749910381638885],\n",
       "        [1.0, 0.0, 0.0, -0.7401495441200351, -0.5646194287757332]],\n",
       "       dtype=object),\n",
       " array([[0.0, 1.0, 0.0, -1.4661817944830124, -0.9069571034860727],\n",
       "        [1.0, 0.0, 0.0, -0.44973664397484414, 0.2056403393225306]],\n",
       "       dtype=object),\n",
       " array([0, 1, 0, 0, 1, 1, 0, 1]),\n",
       " array([0, 1]))"
      ]
     },
     "execution_count": 82,
     "metadata": {},
     "output_type": "execute_result"
    }
   ],
   "source": [
    "#Feature Scaling (to make sure all the features(columns) are in same scale)\n",
    "\n",
    "from sklearn.preprocessing import StandardScaler\n",
    "sc = StandardScaler()\n",
    "x_train[:,3:] = sc.fit_transform(x_train[:,3:])\n",
    "x_test[:,3:] = sc.transform(x_test[:,3:])\n",
    "x_train,x_test,y_train,y_test"
   ]
  }
 ],
 "metadata": {
  "kernelspec": {
   "display_name": "Python 3 (ipykernel)",
   "language": "python",
   "name": "python3"
  },
  "language_info": {
   "codemirror_mode": {
    "name": "ipython",
    "version": 3
   },
   "file_extension": ".py",
   "mimetype": "text/x-python",
   "name": "python",
   "nbconvert_exporter": "python",
   "pygments_lexer": "ipython3",
   "version": "3.9.7"
  }
 },
 "nbformat": 4,
 "nbformat_minor": 5
}
