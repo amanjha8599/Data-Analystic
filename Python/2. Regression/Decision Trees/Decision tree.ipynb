{
 "cells": [
  {
   "cell_type": "code",
   "execution_count": 12,
   "id": "5f3cc5af",
   "metadata": {},
   "outputs": [
    {
     "data": {
      "text/plain": [
       "(array([[ 1],\n",
       "        [ 2],\n",
       "        [ 3],\n",
       "        [ 4],\n",
       "        [ 5],\n",
       "        [ 6],\n",
       "        [ 7],\n",
       "        [ 8],\n",
       "        [ 9],\n",
       "        [10]], dtype=int64),\n",
       " array([[  45000],\n",
       "        [  50000],\n",
       "        [  60000],\n",
       "        [  80000],\n",
       "        [ 110000],\n",
       "        [ 150000],\n",
       "        [ 200000],\n",
       "        [ 300000],\n",
       "        [ 500000],\n",
       "        [1000000]], dtype=int64))"
      ]
     },
     "execution_count": 12,
     "metadata": {},
     "output_type": "execute_result"
    }
   ],
   "source": [
    "import pandas as pd\n",
    "import numpy as np\n",
    "import matplotlib.pyplot as plt\n",
    "\n",
    "table = pd.read_csv(\"Position_Salaries.csv\")\n",
    "table = table.iloc[:,1:3]\n",
    "X = table['Level'].values.reshape(-1,1)\n",
    "y = table['Salary'].values.reshape(-1,1)\n",
    "X,y"
   ]
  },
  {
   "cell_type": "code",
   "execution_count": 15,
   "id": "bedbe2fd",
   "metadata": {},
   "outputs": [
    {
     "data": {
      "text/plain": [
       "DecisionTreeRegressor(random_state=0)"
      ]
     },
     "execution_count": 15,
     "metadata": {},
     "output_type": "execute_result"
    }
   ],
   "source": [
    "from sklearn.tree import DecisionTreeRegressor\n",
    "model = DecisionTreeRegressor(random_state = 0)\n",
    "model.fit(X,y)"
   ]
  },
  {
   "cell_type": "code",
   "execution_count": 29,
   "id": "d10cd54e",
   "metadata": {},
   "outputs": [
    {
     "data": {
      "text/plain": [
       "Text(0, 0.5, 'Salary in 100000s')"
      ]
     },
     "execution_count": 29,
     "metadata": {},
     "output_type": "execute_result"
    },
    {
     "data": {
      "image/png": "[encoded data removed]",
      "text/plain": [
       "<Figure size 432x288 with 1 Axes>"
      ]
     },
     "metadata": {
      "needs_background": "light"
     },
     "output_type": "display_data"
    }
   ],
   "source": [
    "pred = model.predict([[6.5],])\n",
    "#changing X \n",
    "X_grid = np.arange(min(X),max(X), 0.1)\n",
    "X_grid = X_grid.reshape(-1,1)\n",
    "plt.plot(X_grid,model.predict(X_grid)/100000, color = 'red')\n",
    "plt.scatter(X,y/100000)\n",
    "plt.title('Regression with Decision Trees')\n",
    "plt.xlabel('Level of Position')\n",
    "plt.ylabel('Salary in 100000s')"
   ]
  }
 ],
 "metadata": {
  "kernelspec": {
   "display_name": "Python 3 (ipykernel)",
   "language": "python",
   "name": "python3"
  },
  "language_info": {
   "codemirror_mode": {
    "name": "ipython",
    "version": 3
   },
   "file_extension": ".py",
   "mimetype": "text/x-python",
   "name": "python",
   "nbconvert_exporter": "python",
   "pygments_lexer": "ipython3",
   "version": "3.9.7"
  }
 },
 "nbformat": 4,
 "nbformat_minor": 5
}
